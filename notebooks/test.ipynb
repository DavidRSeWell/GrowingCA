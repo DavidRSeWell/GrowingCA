{
 "cells": [
  {
   "cell_type": "code",
   "execution_count": 60,
   "metadata": {},
   "outputs": [],
   "source": [
    "import os\n",
    "import io\n",
    "import PIL.Image, PIL.ImageDraw\n",
    "import base64\n",
    "import zipfile\n",
    "import json\n",
    "import requests\n",
    "import numpy as np\n",
    "import matplotlib.pylab as pl\n",
    "import glob\n",
    "\n",
    "import tensorflow as tf\n",
    "\n",
    "from tensorflow.keras.layers import Conv2D\n"
   ]
  },
  {
   "cell_type": "code",
   "execution_count": 61,
   "metadata": {},
   "outputs": [],
   "source": [
    "#### UTILS #####\n",
    "def get_living_mask(x):\n",
    "    alpha = x[:, :, :, 3:4]\n",
    "    return tf.nn.max_pool2d(alpha, 3, [1, 1, 1, 1], 'SAME') > 0.1"
   ]
  },
  {
   "cell_type": "code",
   "execution_count": 62,
   "metadata": {},
   "outputs": [],
   "source": [
    "class CAModel(tf.keras.Model):\n",
    "    \n",
    "    def __init__(self, channel_n, fire_rate):\n",
    "        super().__init__()\n",
    "        self.channel_n = channel_n\n",
    "        self.fire_rate = fire_rate\n",
    "\n",
    "        self.dmodel = tf.keras.Sequential([\n",
    "              Conv2D(128, 1, activation=tf.nn.relu),\n",
    "              Conv2D(self.channel_n, 1, activation=None,\n",
    "                  kernel_initializer=tf.zeros_initializer),\n",
    "        ])\n",
    "\n",
    "        self(tf.zeros([1, 3, 3, channel_n]))  # dummy call to build the model\n",
    "\n",
    "    @tf.function\n",
    "    def perceive(self, x, angle=0.0):\n",
    "        identify = np.float32([0, 1, 0])\n",
    "        identify = np.outer(identify, identify)\n",
    "        dx = np.outer([1, 2, 1], [-1, 0, 1]) / 8.0  # Sobel filter\n",
    "        dy = dx.T\n",
    "        c, s = tf.cos(angle), tf.sin(angle)\n",
    "        kernel = tf.stack([identify, c*dx-s*dy, s*dx+c*dy], -1)[:, :, None, :]\n",
    "        kernel = tf.repeat(kernel, self.channel_n, 2)\n",
    "        y = tf.nn.depthwise_conv2d(x, kernel, [1, 1, 1, 1], 'SAME')\n",
    "        return y\n",
    "\n",
    "    @tf.function\n",
    "    def call(self, x, fire_rate=None, angle=0.0, step_size=1.0):\n",
    "        pre_life_mask = get_living_mask(x)\n",
    "\n",
    "        y = self.perceive(x, angle)\n",
    "        dx = self.dmodel(y)*step_size\n",
    "        if fire_rate is None:\n",
    "            fire_rate = self.fire_rate\n",
    "        update_mask = tf.random.uniform(tf.shape(x[:, :, :, :1])) <= fire_rate\n",
    "        x += dx * tf.cast(update_mask, tf.float32)\n",
    "\n",
    "        post_life_mask = get_living_mask(x)\n",
    "        life_mask = pre_life_mask & post_life_mask\n",
    "        return x * tf.cast(life_mask, tf.float32)\n"
   ]
  },
  {
   "cell_type": "code",
   "execution_count": 63,
   "metadata": {},
   "outputs": [],
   "source": [
    "ca_model = CAModel(channel_n=16,fire_rate=0.5)"
   ]
  },
  {
   "cell_type": "code",
   "execution_count": 64,
   "metadata": {},
   "outputs": [
    {
     "name": "stdout",
     "output_type": "stream",
     "text": [
      "Model: \"sequential_4\"\n",
      "_________________________________________________________________\n",
      "Layer (type)                 Output Shape              Param #   \n",
      "=================================================================\n",
      "conv2d_8 (Conv2D)            (1, 3, 3, 128)            6272      \n",
      "_________________________________________________________________\n",
      "conv2d_9 (Conv2D)            (1, 3, 3, 16)             2064      \n",
      "=================================================================\n",
      "Total params: 8,336\n",
      "Trainable params: 8,336\n",
      "Non-trainable params: 0\n",
      "_________________________________________________________________\n"
     ]
    }
   ],
   "source": [
    "ca_model.dmodel.summary()"
   ]
  },
  {
   "cell_type": "code",
   "execution_count": 65,
   "metadata": {},
   "outputs": [
    {
     "data": {
      "text/plain": [
       "<function RandomState.random>"
      ]
     },
     "execution_count": 65,
     "metadata": {},
     "output_type": "execute_result"
    }
   ],
   "source": [
    "np.random.random"
   ]
  },
  {
   "cell_type": "code",
   "execution_count": 66,
   "metadata": {},
   "outputs": [],
   "source": [
    "seed = np.random.random((72,72,16)).astype('f')\n",
    "\n",
    "x0 = np.repeat(seed[None, ...], 8, 0)"
   ]
  },
  {
   "cell_type": "code",
   "execution_count": 67,
   "metadata": {},
   "outputs": [
    {
     "data": {
      "text/plain": [
       "(8, 72, 72, 16)"
      ]
     },
     "execution_count": 67,
     "metadata": {},
     "output_type": "execute_result"
    }
   ],
   "source": [
    "x0.shape"
   ]
  },
  {
   "cell_type": "code",
   "execution_count": 82,
   "metadata": {},
   "outputs": [],
   "source": [
    "fire_rate=None\n",
    "angle=0.0\n",
    "step_size=1.0\n",
    "\n",
    "pre_life_mask = get_living_mask(x0)\n",
    "y = ca_model.perceive(x0, 0.0)\n",
    "dx = ca_model.dmodel(y)*step_size\n",
    "if fire_rate is None:\n",
    "    fire_rate = ca_model.fire_rate\n",
    "update_mask = tf.random.uniform(tf.shape(x0[:, :, :, :1])) <= fire_rate\n",
    "x0 += dx * tf.cast(update_mask, tf.float32)\n",
    "\n",
    "post_life_mask = get_living_mask(x0)\n",
    "life_mask = pre_life_mask & post_life_mask\n",
    "return_var = x0 * tf.cast(life_mask, tf.float32)\n"
   ]
  },
  {
   "cell_type": "code",
   "execution_count": 68,
   "metadata": {},
   "outputs": [],
   "source": [
    "y = ca_model.perceive(x0)"
   ]
  },
  {
   "cell_type": "code",
   "execution_count": 69,
   "metadata": {},
   "outputs": [],
   "source": [
    "dx = ca_model.dmodel(y) "
   ]
  },
  {
   "cell_type": "code",
   "execution_count": 70,
   "metadata": {},
   "outputs": [
    {
     "data": {
      "text/plain": [
       "TensorShape([8, 72, 72, 48])"
      ]
     },
     "execution_count": 70,
     "metadata": {},
     "output_type": "execute_result"
    }
   ],
   "source": [
    "y.shape"
   ]
  },
  {
   "cell_type": "code",
   "execution_count": 71,
   "metadata": {},
   "outputs": [
    {
     "data": {
      "text/plain": [
       "TensorShape([8, 72, 72, 16])"
      ]
     },
     "execution_count": 71,
     "metadata": {},
     "output_type": "execute_result"
    }
   ],
   "source": [
    "dx.shape"
   ]
  },
  {
   "cell_type": "code",
   "execution_count": 72,
   "metadata": {},
   "outputs": [],
   "source": [
    "angle = 0.0\n",
    "identify = np.float32([0, 1, 0])\n",
    "identify = np.outer(identify, identify)\n",
    "dx = np.outer([1, 2, 1], [-1, 0, 1]) / 8.0  # Sobel filter\n",
    "dy = dx.T\n",
    "c, s = tf.cos(angle), tf.sin(angle)\n",
    "kernel1 = tf.stack([identify, c*dx-s*dy, s*dx+c*dy], -1)[:, :, None, :]\n",
    "kernel = tf.repeat(kernel1, 16, 2)"
   ]
  },
  {
   "cell_type": "code",
   "execution_count": 73,
   "metadata": {},
   "outputs": [
    {
     "data": {
      "text/plain": [
       "array([[0., 0., 0.],\n",
       "       [0., 1., 0.],\n",
       "       [0., 0., 0.]], dtype=float32)"
      ]
     },
     "execution_count": 73,
     "metadata": {},
     "output_type": "execute_result"
    }
   ],
   "source": [
    "identify"
   ]
  },
  {
   "cell_type": "code",
   "execution_count": 74,
   "metadata": {},
   "outputs": [
    {
     "data": {
      "text/plain": [
       "<tf.Tensor: shape=(3, 3), dtype=float32, numpy=\n",
       "array([[-0.125,  0.   ,  0.125],\n",
       "       [-0.25 ,  0.   ,  0.25 ],\n",
       "       [-0.125,  0.   ,  0.125]], dtype=float32)>"
      ]
     },
     "execution_count": 74,
     "metadata": {},
     "output_type": "execute_result"
    }
   ],
   "source": [
    "c*dx-s*dy"
   ]
  },
  {
   "cell_type": "code",
   "execution_count": 75,
   "metadata": {},
   "outputs": [
    {
     "data": {
      "text/plain": [
       "<tf.Tensor: shape=(3, 3), dtype=float32, numpy=\n",
       "array([[-0.125, -0.25 , -0.125],\n",
       "       [ 0.   ,  0.   ,  0.   ],\n",
       "       [ 0.125,  0.25 ,  0.125]], dtype=float32)>"
      ]
     },
     "execution_count": 75,
     "metadata": {},
     "output_type": "execute_result"
    }
   ],
   "source": [
    "s*dx+c*dy"
   ]
  },
  {
   "cell_type": "code",
   "execution_count": 76,
   "metadata": {},
   "outputs": [
    {
     "data": {
      "text/plain": [
       "array([[-0.125,  0.   ,  0.125],\n",
       "       [-0.25 ,  0.   ,  0.25 ],\n",
       "       [-0.125,  0.   ,  0.125]])"
      ]
     },
     "execution_count": 76,
     "metadata": {},
     "output_type": "execute_result"
    }
   ],
   "source": [
    "dx"
   ]
  },
  {
   "cell_type": "code",
   "execution_count": 77,
   "metadata": {},
   "outputs": [
    {
     "data": {
      "text/plain": [
       "array([[-0.125, -0.25 , -0.125],\n",
       "       [ 0.   ,  0.   ,  0.   ],\n",
       "       [ 0.125,  0.25 ,  0.125]])"
      ]
     },
     "execution_count": 77,
     "metadata": {},
     "output_type": "execute_result"
    }
   ],
   "source": [
    "dy"
   ]
  },
  {
   "cell_type": "code",
   "execution_count": 78,
   "metadata": {},
   "outputs": [
    {
     "data": {
      "text/plain": [
       "<tf.Tensor: shape=(), dtype=float32, numpy=1.0>"
      ]
     },
     "execution_count": 78,
     "metadata": {},
     "output_type": "execute_result"
    }
   ],
   "source": [
    "c"
   ]
  },
  {
   "cell_type": "code",
   "execution_count": 79,
   "metadata": {},
   "outputs": [
    {
     "data": {
      "text/plain": [
       "<tf.Tensor: shape=(), dtype=float32, numpy=0.0>"
      ]
     },
     "execution_count": 79,
     "metadata": {},
     "output_type": "execute_result"
    }
   ],
   "source": [
    "s"
   ]
  },
  {
   "cell_type": "code",
   "execution_count": 80,
   "metadata": {},
   "outputs": [
    {
     "data": {
      "text/plain": [
       "<tf.Tensor: shape=(3, 3, 1, 3), dtype=float32, numpy=\n",
       "array([[[[ 0.   , -0.125, -0.125]],\n",
       "\n",
       "        [[ 0.   ,  0.   , -0.25 ]],\n",
       "\n",
       "        [[ 0.   ,  0.125, -0.125]]],\n",
       "\n",
       "\n",
       "       [[[ 0.   , -0.25 ,  0.   ]],\n",
       "\n",
       "        [[ 1.   ,  0.   ,  0.   ]],\n",
       "\n",
       "        [[ 0.   ,  0.25 ,  0.   ]]],\n",
       "\n",
       "\n",
       "       [[[ 0.   , -0.125,  0.125]],\n",
       "\n",
       "        [[ 0.   ,  0.   ,  0.25 ]],\n",
       "\n",
       "        [[ 0.   ,  0.125,  0.125]]]], dtype=float32)>"
      ]
     },
     "execution_count": 80,
     "metadata": {},
     "output_type": "execute_result"
    }
   ],
   "source": [
    "kernel1"
   ]
  },
  {
   "cell_type": "code",
   "execution_count": 45,
   "metadata": {},
   "outputs": [
    {
     "data": {
      "text/plain": [
       "TensorShape([3, 3, 16, 3])"
      ]
     },
     "execution_count": 45,
     "metadata": {},
     "output_type": "execute_result"
    }
   ],
   "source": [
    "kernel.shape"
   ]
  },
  {
   "cell_type": "code",
   "execution_count": null,
   "metadata": {},
   "outputs": [],
   "source": []
  }
 ],
 "metadata": {
  "kernelspec": {
   "display_name": "GrowingCA",
   "language": "python",
   "name": "growingca"
  },
  "language_info": {
   "codemirror_mode": {
    "name": "ipython",
    "version": 3
   },
   "file_extension": ".py",
   "mimetype": "text/x-python",
   "name": "python",
   "nbconvert_exporter": "python",
   "pygments_lexer": "ipython3",
   "version": "3.7.3"
  }
 },
 "nbformat": 4,
 "nbformat_minor": 4
}
